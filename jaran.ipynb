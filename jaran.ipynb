{
 "cells": [
  {
   "cell_type": "code",
   "execution_count": 1,
   "metadata": {},
   "outputs": [
    {
     "name": "stdout",
     "output_type": "stream",
     "text": [
      "ページの取得に成功しました\n",
      "対象の<div>タグが見つかりました\n",
      "13個の'class=sub'の<a>タグが見つかりました\n",
      "1: //www.jalan.net/130000/LRG_137100/\n",
      "2: //www.jalan.net/130000/LRG_138000/\n",
      "3: //www.jalan.net/130000/LRG_136200/\n",
      "4: //www.jalan.net/130000/LRG_137400/\n",
      "5: //www.jalan.net/130000/LRG_138300/\n",
      "6: //www.jalan.net/130000/LRG_139200/\n",
      "7: //www.jalan.net/130000/LRG_137700/\n",
      "8: //www.jalan.net/130000/LRG_136800/\n",
      "9: //www.jalan.net/130000/LRG_138600/\n",
      "10: //www.jalan.net/130000/LRG_136500/\n",
      "11: //www.jalan.net/130000/LRG_139500/\n",
      "12: //www.jalan.net/130000/LRG_138900/\n",
      "13: //www.jalan.net/130000/LRG_139800/\n"
     ]
    }
   ],
   "source": [
    "import requests\n",
    "from bs4 import BeautifulSoup\n",
    "\n",
    "# ウェブページのURL\n",
    "url = \"https://www.jalan.net/ikisaki/map/tokyo/\"\n",
    "response = requests.get(url)\n",
    "\n",
    "# ステータスコードを確認\n",
    "if response.status_code == 200:\n",
    "    print(\"ページの取得に成功しました\")\n",
    "else:\n",
    "    print(\"ページの取得に失敗しました\")\n",
    "\n",
    "# HTMLを解析\n",
    "soup = BeautifulSoup(response.text, \"html.parser\")\n",
    "\n",
    "# classが'map-right-inner'の<div>を取得\n",
    "map_right_inner_div = soup.find(\"div\", class_=\"map-right-inner\")\n",
    "\n",
    "# タグが見つかったか確認\n",
    "if map_right_inner_div:\n",
    "    print(\"対象の<div>タグが見つかりました\")\n",
    "else:\n",
    "    print(\"対象の<div>タグが見つかりませんでした\")\n",
    "\n",
    "# 対象の<div>内のclassが'sub'の<a>タグを取得\n",
    "if map_right_inner_div:\n",
    "    a_tags = map_right_inner_div.find_all(\"a\", class_=\"sub\")\n",
    "    print(f\"{len(a_tags)}個の'class=sub'の<a>タグが見つかりました\")\n",
    "else:\n",
    "    a_tags = []\n",
    "\n",
    "# href属性からURLを抽出\n",
    "urls = [a['href'] for a in a_tags if 'href' in a.attrs]\n",
    "\n",
    "# 抽出したURLを表示\n",
    "for i, url in enumerate(urls, 1):\n",
    "    print(f\"{i}: {url}\")"
   ]
  }
 ],
 "metadata": {
  "kernelspec": {
   "display_name": "Python 3",
   "language": "python",
   "name": "python3"
  },
  "language_info": {
   "codemirror_mode": {
    "name": "ipython",
    "version": 3
   },
   "file_extension": ".py",
   "mimetype": "text/x-python",
   "name": "python",
   "nbconvert_exporter": "python",
   "pygments_lexer": "ipython3",
   "version": "3.10.1"
  }
 },
 "nbformat": 4,
 "nbformat_minor": 2
}
